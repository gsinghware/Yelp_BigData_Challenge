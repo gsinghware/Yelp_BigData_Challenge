{
 "cells": [
  {
   "cell_type": "code",
   "execution_count": 3,
   "metadata": {
    "collapsed": false
   },
   "outputs": [],
   "source": [
    "import json\n",
    "import operator\n",
    "from sets import Set\n",
    "\n",
    "checkins = sc.textFile('../YelpDataset/yelp_academic_dataset_checkin.json')\n",
    "businesses = sc.textFile('../YelpDataset/yelp_academic_dataset_business.json')\n",
    "tips = sc.textFile('../YelpDataset/yelp_academic_dataset_tip.json')\n",
    "users = sc.textFile('../YelpDataset/yelp_academic_dataset_user.json')\n",
    "reviews = sc.textFile('../YelpDataset/yelp_academic_dataset_review.json')\n",
    "positive_words = sc.textFile('positive-words.txt').collect()\n",
    "negative_words = sc.textFile('negative-words.txt').collect()\n",
    "negative_words = negative_words[0].split(\",\")\n",
    "positive_words = positive_words[0].split(\",\")\n",
    "\n",
    "negative_words = Set(negative_words)\n",
    "positive_words = Set(positive_words)\n",
    "\n",
    "selectedCategories = ['Restaurants', 'Shopping', 'Beauty & Spas', 'Bars', 'Automotive', 'Event Planning & Services',\n",
    "                     'Fast Food', 'Coffee & Tea', 'Hotels', 'Real Estate', 'Dentists', 'Gyms']\n"
   ]
  },
  {
   "cell_type": "code",
   "execution_count": 4,
   "metadata": {
    "collapsed": false,
    "scrolled": true
   },
   "outputs": [
    {
     "data": {
      "text/plain": [
       "[((u'Restaurants', u'sOcZcXcNm8LmdoOYqEDqpg'), 29.01123150105708),\n",
       " ((u'Restaurants', u'51qNc8sg9kCD5GEJ3TUrrw'), 21.875330338266384),\n",
       " ((u'Restaurants', u'Yl7jil0y_1GK1Z82vmUQew'), 19.689812367864693),\n",
       " ((u'Restaurants', u'VZYMInkjRJVHwXVFqeoMWg'), 19.52319482842739),\n",
       " ((u'Restaurants', u'bZX-b9fInWIk8j3Y50uBWQ'), 20.76096194503171),\n",
       " ((u'Restaurants', u'DeiWR9aL18WpVyzuey7dGg'), 29.167327343199435),\n",
       " ((u'Restaurants', u'fvzr5GVCnNpnF9V-MvYrFg'), 21.890525898520085),\n",
       " ((u'Restaurants', u'JL5B_s1EoN4zIru4JSw4Qg'), 19.693776427061312),\n",
       " ((u'Restaurants', u'dzZnC5YVzZVzW0he28HwEA'), 0.0),\n",
       " ((u'Restaurants', u'83C1eqPfmQHTy_8MC4Ug6w'), 17.745369692299857),\n",
       " ((u'Restaurants', u'2n41w1fel0glITinZ25syQ'), 28.438491014799155),\n",
       " ((u'Restaurants', u'_8tUKyMRMMt1YSlac04eqg'), 35.00033033826639),\n",
       " ((u'Restaurants', u'W7xb2iS4cYL14Yi5LOGSkA'), 21.28449859485381),\n",
       " ((u'Restaurants', u'3yRq8DjiSt4lSPEonpSaLQ'), 20.366014799154335),\n",
       " ((u'Restaurants', u'p3PrAbM6GkPkUXcp0FouNQ'), 30.625330338266384),\n",
       " ((u'Restaurants', u'kog6g98NVvAhpKUaW9LtoA'), 28.07917410877014),\n",
       " ((u'Restaurants', u'WjT_DJivd3I98FxDgEZpTQ'), 25.61398872445384),\n",
       " ((u'Restaurants', u'HnQfvxGrZ6tltjJhX0PRPw'), 22.57801198954045),\n",
       " ((u'Restaurants', u'rKC8pZU2Ydh2IQkwB75Zww'), 12.801014392584161),\n",
       " ((u'Restaurants', u'3ewMJEnQmtmMYp9hyT690w'), 26.163256559332144)]"
      ]
     },
     "execution_count": 4,
     "metadata": {},
     "output_type": "execute_result"
    }
   ],
   "source": [
    "# Reviews\n",
    "\n",
    "def mapper_reviews_filter(rows):\n",
    "    for row in rows:\n",
    "        row = json.loads(row)\n",
    "        yield (row['user_id'], (row['business_id'], row['stars']))\n",
    "\n",
    "def mapper_business_filter(rows):\n",
    "    for row in rows:\n",
    "        row = json.loads(row)\n",
    "        for category in row['categories']:\n",
    "            if(category in selectedCategories):\n",
    "                yield (row['business_id'], category)\n",
    "\n",
    "def mapper_users_filter(rows):\n",
    "    for row in rows:\n",
    "        row = json.loads(row)\n",
    "        elite = 0\n",
    "        if len(row['elite']) == 0:\n",
    "            elite = 1\n",
    "        else:\n",
    "            elite = 4 + len(row['elite'])\n",
    "        yield (row['user_id'], elite)\n",
    "\n",
    "def mapper_business_rating(rows):\n",
    "    for row in rows:\n",
    "        business_id = row[0]\n",
    "        ratings_value = 0\n",
    "        ratings_count = 0\n",
    "        for rating in row[1]:\n",
    "            ratings_value += rating[0]*rating[1]\n",
    "            ratings_count += rating[1]\n",
    "        if(ratings_value < 0):\n",
    "            rating_value = 0\n",
    "        yield (business_id, (float(ratings_value)/float(ratings_count), ratings_count))        \n",
    "\n",
    "def mapper_normalized_total_reviews(records):\n",
    "    for category in records:\n",
    "        maxRatingValue = max(category[1],key=operator.itemgetter(1))[1][0] \n",
    "        minRatingValue = min(category[1],key=operator.itemgetter(1))[1][0] \n",
    "        maxRatingCount = max(category[1],key=lambda item:item[1][1])[1][1]\n",
    "        minRatingCount = min(category[1],key=lambda item:item[1][1])[1][1]\n",
    "        for business in category[1]:\n",
    "            normalizedRatingValue = (float(business[1][0]) - minRatingValue)/(maxRatingValue - minRatingValue) * 35\n",
    "            normalizedRatingCount = (float(business[1][1]) - minRatingCount)/(maxRatingCount - minRatingCount) * 5\n",
    "            yield ((category[0], business[0]), normalizedRatingValue + normalizedRatingCount)   \n",
    "            \n",
    "reviews_filtered = reviews.mapPartitions(mapper_reviews_filter)\n",
    "business_filtered = businesses.mapPartitions(mapper_business_filter)\n",
    "users_filtered = users.mapPartitions(mapper_users_filter)\n",
    "\n",
    "joined_reviews = reviews_filtered.join(users_filtered).map(lambda x: (x[1][0][0],(x[1][0][1], x[1][1]))).groupByKey()\n",
    "total_reviews = joined_reviews.mapPartitions(mapper_business_rating)\n",
    "category_join = total_reviews.join(business_filtered).map(lambda x: (x[1][1], (x[0], x[1][0]))).groupByKey().mapValues(list)\n",
    "total_normalized_reviews = category_join.mapPartitions(mapper_normalized_total_reviews)\n",
    "# total_sortedByRatingsCount = total_normalized.map(lambda (k, v): (k, sorted(v, key=lambda x: x[1][1], reverse=True)))\n",
    "# total_sortedByRatingsValue = total_normalized.map(lambda (k, v): (k, sorted(v, key=lambda x: x[1], reverse=True)))\n",
    "total_normalized_reviews.take(20)\n"
   ]
  },
  {
   "cell_type": "code",
   "execution_count": 5,
   "metadata": {
    "collapsed": false
   },
   "outputs": [
    {
     "data": {
      "text/plain": [
       "[((u'Bars', u'nx8B4SQC4pQnMoTVsMs0rg'), 2.2646718146718148),\n",
       " ((u'Bars', u'XKwbA7WVROVbLlPPzHZHgw'), 4.503861003861004),\n",
       " ((u'Bars', u'W-UBevF6tFgX4WiA8PvdPA'), 2.9795272624540914),\n",
       " ((u'Bars', u'oqL1hS934CyZc3msupQNRA'), 0.49555984555984545),\n",
       " ((u'Bars', u'D3a0vrdXzT_UkbPNhK8f7w'), 6.513127413127413),\n",
       " ((u'Bars', u'g8dcjPzIJGwY-u4GAeHxnQ'), 0.0),\n",
       " ((u'Bars', u'MnHlTUSAPev7YRbdZDv5ew'), 1.2108108108108109),\n",
       " ((u'Bars', u'cexR4j7jfgnTMbbb_YEDWg'), 2.706949806949807),\n",
       " ((u'Bars', u'CBoMK_j_QG-DdMIsqznTkQ'), 0.36545886545886525),\n",
       " ((u'Bars', u'-SB5exmdSotbAFh-NwMmbQ'), 2.462267462267462),\n",
       " ((u'Bars', u'1ESuAwWok4cI3dmnZ4G1NQ'), 0.444015444015444),\n",
       " ((u'Bars', u'pNozqOyMv4gq7IUYEdhpHA'), 0.008494208494208495),\n",
       " ((u'Bars', u'stPGLQ8-zTCnAWcp-PgBGA'), 5.4069498069498065),\n",
       " ((u'Bars', u'JWcfWhjO_cpfGsEDv8j2xg'), 2.248181263970738),\n",
       " ((u'Bars', u'TzImzfIWkZTnetKl2a4-SQ'), 1.4315070678707043),\n",
       " ((u'Bars', u'RJhYVlSttYwMFZzY0woV4w'), 2.9695316434446872),\n",
       " ((u'Bars', u'-yTdxWCadi8Kn1H05getKQ'), 6.314671814671814),\n",
       " ((u'Bars', u'kst89zvoXV4z6q5XxLs7Rw'), 5.636583011583012),\n",
       " ((u'Bars', u'7ZRYDdUImigpDvDy1xQ8-Q'), 1.6440856440856442),\n",
       " ((u'Bars', u'9HKkqqfMk5XYdFzqCqLJ9g'), 0.004633204633204633)]"
      ]
     },
     "execution_count": 5,
     "metadata": {},
     "output_type": "execute_result"
    }
   ],
   "source": [
    "# Tips\n",
    "\n",
    "def mapper_tips_filter(records):\n",
    "    for row in records:\n",
    "        row = json.loads(row)\n",
    "        if (row[\"type\"] == 'tip'):\n",
    "            text = row[\"text\"].split(\" \")\n",
    "            pos_counter = 0\n",
    "            neg_counter = 0\n",
    "            for i in text:\n",
    "                if i in positive_words:\n",
    "                    pos_counter += 1\n",
    "                elif i in negative_words:\n",
    "                    neg_counter += 1\n",
    "            if pos_counter > neg_counter:\n",
    "                yield (row[\"user_id\"], (row[\"business_id\"], 1))  #good\n",
    "            else:\n",
    "                yield (row[\"user_id\"], (row[\"business_id\"], -1)) #bad tip\n",
    "\n",
    "def mapper_normalized_total_tips(records):\n",
    "    for category in records:\n",
    "        maxRatingValue = max(category[1],key=operator.itemgetter(1))[1][0] \n",
    "        minRatingValue = min(category[1],key=operator.itemgetter(1))[1][0] \n",
    "        maxRatingCount = max(category[1],key=lambda item:item[1][1])[1][1]\n",
    "        minRatingCount = min(category[1],key=lambda item:item[1][1])[1][1]\n",
    "        for business in category[1]:\n",
    "            normalizedRatingValue = (float(business[1][0]) - minRatingValue)/(maxRatingValue - minRatingValue) * 9\n",
    "            normalizedRatingCount = (float(business[1][1]) - minRatingCount)/(maxRatingCount - minRatingCount) * 1\n",
    "            yield ((category[0], business[0]), normalizedRatingValue + normalizedRatingCount)   \n",
    "                \n",
    "tips_filtered = tips.mapPartitions(mapper_tips_filter)\n",
    "joined_tips = tips_filtered.join(users_filtered).map(lambda x: (x[1][0][0],(x[1][0][1], x[1][1]))).groupByKey()\n",
    "total_tips = joined_tips.mapPartitions(mapper_business_rating)\n",
    "category_join_tips = total_tips.join(business_filtered).map(lambda x: (x[1][1], (x[0], x[1][0]))).groupByKey().mapValues(list)\n",
    "total_normalized_tips = category_join_tips.mapPartitions(mapper_normalized_total_tips)\n",
    "total_normalized_tips.take(20)"
   ]
  },
  {
   "cell_type": "code",
   "execution_count": 6,
   "metadata": {
    "collapsed": false
   },
   "outputs": [
    {
     "data": {
      "text/plain": [
       "[((u'Coffee & Tea', u'sOcZcXcNm8LmdoOYqEDqpg'), 0.021596328624133895),\n",
       " ((u'Coffee & Tea', u'4K7nR-e9staGTNJk1ez7MA'), 0.039593269144245484),\n",
       " ((u'Coffee & Tea', u'ycutyiy4ozAX1t2wCIeP2w'), 0.04319265724826779),\n",
       " ((u'Coffee & Tea', u'OYZOzzipfXdWrYe1A2zeKw'), 0.025195716728156212),\n",
       " ((u'Coffee & Tea', u'0EXVIF07vw-QTTy9V7-ebg'), 0.18356879330513814),\n",
       " ((u'Coffee & Tea', u'OG27njKJGhjpesJb9McGPQ'), 0.10618194906865833),\n",
       " ((u'Coffee & Tea', u'qAkk0DaKLotxX2UzSPg9fQ'), 0.017996940520111582),\n",
       " ((u'Coffee & Tea', u'ziA1FCZrt9SMjlBlPo5EaQ'), 0.35813911635022044),\n",
       " ((u'Coffee & Tea', u'JJGBx48I4yudiEhw9fGbZw'), 0.026995410780167373),\n",
       " ((u'Coffee & Tea', u'sB0yyxeBcVhRxGd-lwR4yg'), 0.01619724646810042),\n",
       " ((u'Coffee & Tea', u'toDZ6L_a_0lWU9O1JtQRGg'), 0.31854584720597495),\n",
       " ((u'Coffee & Tea', u'SOtYTZQIB5-3EqIlFjo7lA'), 0.03059479888418969),\n",
       " ((u'Coffee & Tea', u'y3VxXuUvrhURPbvtF0GkTg'), 0.20876451003329435),\n",
       " ((u'Coffee & Tea', u'PkPcOZh1tQfQUV6bJRTrng'), 0.2267614505534059),\n",
       " ((u'Coffee & Tea', u'z7zJSAJtpmfHsWYlH-O7-g'), 0.021596328624133895),\n",
       " ((u'Coffee & Tea', u'NxyPHhZRSwPFYr1HZCLG0w'), 0.13677674795284803),\n",
       " ((u'Coffee & Tea', u'fKoyvPd1eJOa9EcZ6sk4gA'), 0.1979663457212274),\n",
       " ((u'Coffee & Tea', u'jn90SWm5P2Sjn4RvGEkMUQ'), 0.003599388104022316),\n",
       " ((u'Coffee & Tea', u'T-yPFnNCWiH7TA23j1BxXw'), 0.010798164312066948),\n",
       " ((u'Coffee & Tea', u'sNT0JKFGguAJvpQenfbArQ'), 0.7756681364168092)]"
      ]
     },
     "execution_count": 6,
     "metadata": {},
     "output_type": "execute_result"
    }
   ],
   "source": [
    "#Checkins\n",
    "\n",
    "def mapper_checkins_filter(records):\n",
    "    for line in records:\n",
    "        line = json.loads(line)\n",
    "        checkin_info = line['checkin_info']\n",
    "        for key, val in checkin_info.iteritems():\n",
    "            yield (line['business_id'], val)\n",
    "\n",
    "def mapper_normalization(records):\n",
    "    for category in records:\n",
    "        minCheckins = min(category[1], key=operator.itemgetter(1))[1]\n",
    "        maxCheckins = max(category[1], key=operator.itemgetter(1))[1]\n",
    "        for business in category[1]:\n",
    "            normalizedRatingValue = (float(business[1]) - minCheckins)/(maxCheckins - minCheckins) * 20\n",
    "            yield ((category[0], business[0]), normalizedRatingValue)    \n",
    "        \n",
    "checkins_filtered = checkins.mapPartitions(mapper_checkins_filter).reduceByKey(operator.add)\n",
    "joined_checkins = checkins_filtered.join(business_filtered).map(lambda x: (x[1][1],(x[0],x[1][0]))).groupByKey().mapValues(list)\n",
    "total_normalized_checkins = joined_checkins.mapPartitions(mapper_normalization)\n",
    "total_normalized_checkins.take(20)"
   ]
  },
  {
   "cell_type": "code",
   "execution_count": 33,
   "metadata": {
    "collapsed": false
   },
   "outputs": [
    {
     "data": {
      "text/plain": [
       "[(u'OhmRdo9XL2ZWtpt7ewvPAg',\n",
       "  ((u'Subway', u'Henderson', 36.0288225, -115.0624726),\n",
       "   (u'Restaurants',\n",
       "    (0.04447649957927635, 17.500991014799155, 1.2871830739639796),\n",
       "    18.83265058834241))),\n",
       " (u'OhmRdo9XL2ZWtpt7ewvPAg',\n",
       "  ((u'Subway', u'Henderson', 36.0288225, -115.0624726),\n",
       "   (u'Fast Food',\n",
       "    (0.16968585186883742, 17.505192107995846, 1.2921108742004264),\n",
       "    18.96698883406511)))]"
      ]
     },
     "execution_count": 33,
     "metadata": {},
     "output_type": "execute_result"
    }
   ],
   "source": [
    "def mapper_business_information(rows):\n",
    "    for row in rows:\n",
    "        row = json.loads(row)\n",
    "        yield(row['business_id'], (row['name'], row['city'], row['latitude'], row['longitude']))\n",
    "\n",
    "score = total_normalized_checkins.join(total_normalized_reviews).join(total_normalized_tips)\n",
    "score = score.map(lambda x: (x[0][1], ((x[0][0], (x[1][0][0], x[1][0][1], x[1][1]), x[1][0][0] + x[1][0][1] + x[1][1]))))\n",
    "business_information = businesses.mapPartitions(mapper_business_information)\n",
    "business_information_joined = business_information.join(score)\n",
    "business_information_joined.take(2)"
   ]
  },
  {
   "cell_type": "code",
   "execution_count": 50,
   "metadata": {
    "collapsed": false
   },
   "outputs": [
    {
     "ename": "AttributeError",
     "evalue": "'NoneType' object has no attribute 'append'",
     "output_type": "error",
     "traceback": [
      "\u001b[0;31m---------------------------------------------------------------------------\u001b[0m",
      "\u001b[0;31mAttributeError\u001b[0m                            Traceback (most recent call last)",
      "\u001b[0;32m<ipython-input-50-5fc5422a33cf>\u001b[0m in \u001b[0;36m<module>\u001b[0;34m()\u001b[0m\n\u001b[1;32m     32\u001b[0m     \u001b[0mcategory\u001b[0m \u001b[0;34m=\u001b[0m \u001b[0mbusiness\u001b[0m\u001b[0;34m[\u001b[0m\u001b[0;36m1\u001b[0m\u001b[0;34m]\u001b[0m\u001b[0;34m[\u001b[0m\u001b[0;36m1\u001b[0m\u001b[0;34m]\u001b[0m\u001b[0;34m[\u001b[0m\u001b[0;36m0\u001b[0m\u001b[0;34m]\u001b[0m\u001b[0;34m\u001b[0m\u001b[0m\n\u001b[1;32m     33\u001b[0m     \u001b[0;32mif\u001b[0m \u001b[0mcategory\u001b[0m \u001b[0;32min\u001b[0m \u001b[0mdata\u001b[0m\u001b[0;34m:\u001b[0m\u001b[0;34m\u001b[0m\u001b[0m\n\u001b[0;32m---> 34\u001b[0;31m         \u001b[0mdata\u001b[0m\u001b[0;34m[\u001b[0m\u001b[0mcategory\u001b[0m\u001b[0;34m]\u001b[0m \u001b[0;34m=\u001b[0m \u001b[0mdata\u001b[0m\u001b[0;34m[\u001b[0m\u001b[0mcategory\u001b[0m\u001b[0;34m]\u001b[0m\u001b[0;34m.\u001b[0m\u001b[0mappend\u001b[0m\u001b[0;34m(\u001b[0m\u001b[0mbusiness\u001b[0m\u001b[0;34m)\u001b[0m\u001b[0;34m\u001b[0m\u001b[0m\n\u001b[0m\u001b[1;32m     35\u001b[0m     \u001b[0;32melse\u001b[0m\u001b[0;34m:\u001b[0m\u001b[0;34m\u001b[0m\u001b[0m\n\u001b[1;32m     36\u001b[0m         \u001b[0mdata\u001b[0m\u001b[0;34m[\u001b[0m\u001b[0mcategory\u001b[0m\u001b[0;34m]\u001b[0m \u001b[0;34m=\u001b[0m \u001b[0;34m[\u001b[0m\u001b[0mbusiness\u001b[0m\u001b[0;34m]\u001b[0m\u001b[0;34m\u001b[0m\u001b[0m\n",
      "\u001b[0;31mAttributeError\u001b[0m: 'NoneType' object has no attribute 'append'"
     ]
    }
   ],
   "source": [
    "# (u'OhmRdo9XL2ZWtpt7ewvPAg',\n",
    "#   ((u'Subway', u'Henderson', 36.0288225, -115.0624726),\n",
    "#    (u'Restaurants',\n",
    "#     (0.04447649957927635, 17.500991014799155, 1.2871830739639796),\n",
    "#     18.83265058834241)))\n",
    "\n",
    "def mapper_business_information(rows):\n",
    "    for row in rows:\n",
    "        row = json.loads(row)\n",
    "        yield(row['business_id'], (row['name'], row['city'], row['latitude'], row['longitude']))\n",
    "\n",
    "score = total_normalized_checkins.join(total_normalized_reviews).join(total_normalized_tips)\n",
    "score = score.map(lambda x: (x[0][1], ((x[0][0], (x[1][0][0], x[1][0][1], x[1][1]), x[1][0][0] + x[1][0][1] + x[1][1]))))\n",
    "business_information = businesses.mapPartitions(mapper_business_information)\n",
    "business_information_joined = business_information.join(score)\n",
    "business_information_joined.take(3)\n",
    "\n",
    "import os\n",
    "\n",
    "business_information_joined = business_information_joined.collect()\n",
    "cities = ['LasVegas', 'Phoenix', 'Montreal', 'Edinburgh', 'Karlsruhe', 'Waterloo', 'Charlotte', 'Urbana', 'Madison', 'Champaign']\n",
    "cities = Set(cities)\n",
    "\n",
    "data = {}\n",
    "\n",
    "# (u'OhmRdo9XL2ZWtpt7ewvPAg', ((u'Subway', u'Henderson', 36.0288225, -115.0624726),\n",
    "#    (u'Restaurants',\n",
    "#     (0.04447649957927635, 17.500991014799155, 1.2871830739639796),\n",
    "#     18.83265058834241)))\n",
    "\n",
    "for business in business_information_joined:\n",
    "    category = business[1][1][0]\n",
    "    if category in data:\n",
    "        data[category] = data[category].append(business)\n",
    "    else:\n",
    "        data[category] = [business]\n",
    "        \n",
    "print data\n",
    "    \n",
    "#     city = business[1][0][1].split('/')[0].replace(\" \", \"\")\n",
    "#     if city in cities:\n",
    "#         mode = 'a' if os.path.exists(city) else 'w'\n",
    "#         with open(city, mode) as f:\n",
    "#             f.write(str(business) + \"\\n\")\n",
    "        \n",
    "\n",
    "        "
   ]
  },
  {
   "cell_type": "code",
   "execution_count": null,
   "metadata": {
    "collapsed": true
   },
   "outputs": [],
   "source": []
  }
 ],
 "metadata": {
  "kernelspec": {
   "display_name": "Python 2",
   "language": "python",
   "name": "python2"
  },
  "language_info": {
   "codemirror_mode": {
    "name": "ipython",
    "version": 2
   },
   "file_extension": ".py",
   "mimetype": "text/x-python",
   "name": "python",
   "nbconvert_exporter": "python",
   "pygments_lexer": "ipython2",
   "version": "2.7.11"
  }
 },
 "nbformat": 4,
 "nbformat_minor": 0
}
