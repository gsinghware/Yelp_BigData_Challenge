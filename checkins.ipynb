{
 "cells": [
  {
   "cell_type": "code",
   "execution_count": 35,
   "metadata": {
    "collapsed": false
   },
   "outputs": [],
   "source": [
    "checkins = sc.textFile('../YelpDataset/yelp_academic_dataset_checkin.json')\n",
    "businesses = sc.textFile('../YelpDataset/yelp_academic_dataset_business.json')"
   ]
  },
  {
   "cell_type": "code",
   "execution_count": 38,
   "metadata": {
    "collapsed": false
   },
   "outputs": [
    {
     "data": {
      "text/plain": [
       "[((u'Coffee & Tea', u'sOcZcXcNm8LmdoOYqEDqpg'), 0.021596328624133895),\n",
       " ((u'Coffee & Tea', u'4K7nR-e9staGTNJk1ez7MA'), 0.039593269144245484),\n",
       " ((u'Coffee & Tea', u'ycutyiy4ozAX1t2wCIeP2w'), 0.04319265724826779),\n",
       " ((u'Coffee & Tea', u'OYZOzzipfXdWrYe1A2zeKw'), 0.025195716728156212),\n",
       " ((u'Coffee & Tea', u'0EXVIF07vw-QTTy9V7-ebg'), 0.18356879330513814),\n",
       " ((u'Coffee & Tea', u'OG27njKJGhjpesJb9McGPQ'), 0.10618194906865833),\n",
       " ((u'Coffee & Tea', u'qAkk0DaKLotxX2UzSPg9fQ'), 0.017996940520111582),\n",
       " ((u'Coffee & Tea', u'ziA1FCZrt9SMjlBlPo5EaQ'), 0.35813911635022044),\n",
       " ((u'Coffee & Tea', u'JJGBx48I4yudiEhw9fGbZw'), 0.026995410780167373),\n",
       " ((u'Coffee & Tea', u'sB0yyxeBcVhRxGd-lwR4yg'), 0.01619724646810042),\n",
       " ((u'Coffee & Tea', u'toDZ6L_a_0lWU9O1JtQRGg'), 0.31854584720597495),\n",
       " ((u'Coffee & Tea', u'SOtYTZQIB5-3EqIlFjo7lA'), 0.03059479888418969),\n",
       " ((u'Coffee & Tea', u'y3VxXuUvrhURPbvtF0GkTg'), 0.20876451003329435),\n",
       " ((u'Coffee & Tea', u'PkPcOZh1tQfQUV6bJRTrng'), 0.2267614505534059),\n",
       " ((u'Coffee & Tea', u'z7zJSAJtpmfHsWYlH-O7-g'), 0.021596328624133895),\n",
       " ((u'Coffee & Tea', u'NxyPHhZRSwPFYr1HZCLG0w'), 0.13677674795284803),\n",
       " ((u'Coffee & Tea', u'fKoyvPd1eJOa9EcZ6sk4gA'), 0.1979663457212274),\n",
       " ((u'Coffee & Tea', u'jn90SWm5P2Sjn4RvGEkMUQ'), 0.003599388104022316),\n",
       " ((u'Coffee & Tea', u'T-yPFnNCWiH7TA23j1BxXw'), 0.010798164312066948),\n",
       " ((u'Coffee & Tea', u'sNT0JKFGguAJvpQenfbArQ'), 0.7756681364168092)]"
      ]
     },
     "execution_count": 38,
     "metadata": {},
     "output_type": "execute_result"
    }
   ],
   "source": [
    "import operator\n",
    "import math\n",
    "import json\n",
    "\n",
    "selectedCategories = ['Restaurants', 'Shopping', 'Beauty & Spas', 'Bars', 'Automotive', 'Event Planning & Services',\n",
    "                     'Fast Food', 'Coffee & Tea', 'Hotels', 'Real Estate', 'Dentists', 'Gyms']\n",
    "\n",
    "def mapper_checkins_filter(records):\n",
    "    for line in records:\n",
    "        line = json.loads(line)\n",
    "        checkin_info = line['checkin_info']\n",
    "        for key, val in checkin_info.iteritems():\n",
    "            yield (line['business_id'], val)\n",
    "\n",
    "def mapper_business_filter(rows):\n",
    "    for row in rows:\n",
    "        row = json.loads(row)\n",
    "        for category in row['categories']:\n",
    "            if(category in selectedCategories):\n",
    "                yield (row['business_id'], category)\n",
    "\n",
    "def mapper_normalization(records):\n",
    "    for category in records:\n",
    "        minCheckins = min(category[1], key=operator.itemgetter(1))[1]\n",
    "        maxCheckins = max(category[1], key=operator.itemgetter(1))[1]\n",
    "        for business in category[1]:\n",
    "            normalizedRatingValue = (float(business[1]) - minCheckins)/(maxCheckins - minCheckins) * 20\n",
    "            yield ((category[0], business[0]), normalizedRatingValue)    \n",
    "        \n",
    "checkins_filtered = checkins.mapPartitions(mapper_checkins_filter).reduceByKey(operator.add)\n",
    "business_filtered = businesses.mapPartitions(mapper_buisness_filter)\n",
    "joined = checkins_filtered.join(business_filtered).map(lambda x: (x[1][1],(x[0],x[1][0]))).groupByKey().mapValues(list)\n",
    "total_normalized = joined.mapPartitions(mapper_normalization)\n",
    "# total_sorted = total_normalized.map(lambda (k, v): (k, sorted(v, key=lambda x: x[1], reverse=True)))\n",
    "total_normalized.take(20)"
   ]
  },
  {
   "cell_type": "code",
   "execution_count": null,
   "metadata": {
    "collapsed": true
   },
   "outputs": [],
   "source": []
  }
 ],
 "metadata": {
  "kernelspec": {
   "display_name": "Python 2",
   "language": "python",
   "name": "python2"
  },
  "language_info": {
   "codemirror_mode": {
    "name": "ipython",
    "version": 2
   },
   "file_extension": ".py",
   "mimetype": "text/x-python",
   "name": "python",
   "nbconvert_exporter": "python",
   "pygments_lexer": "ipython2",
   "version": "2.7.11"
  }
 },
 "nbformat": 4,
 "nbformat_minor": 0
}
