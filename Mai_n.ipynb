{
 "cells": [
  {
   "cell_type": "code",
   "execution_count": 33,
   "metadata": {
    "collapsed": false
   },
   "outputs": [
    {
     "name": "stdout",
     "output_type": "stream",
     "text": [
      "0.0\n"
     ]
    }
   ],
   "source": [
    "import json\n",
    "import operator\n",
    "from sets import Set\n",
    "import math\n",
    "\n",
    "checkins = sc.textFile('../YelpDataset/yelp_academic_dataset_checkin.json')\n",
    "businesses = sc.textFile('../YelpDataset/yelp_academic_dataset_business.json')\n",
    "tips = sc.textFile('../YelpDataset/yelp_academic_dataset_tip.json')\n",
    "users = sc.textFile('../YelpDataset/yelp_academic_dataset_user.json')\n",
    "reviews = sc.textFile('../YelpDataset/yelp_academic_dataset_review.json')\n",
    "positive_words = sc.textFile('positive-words.txt').collect()\n",
    "negative_words = sc.textFile('negative-words.txt').collect()\n",
    "negative_words = negative_words[0].split(\",\")\n",
    "positive_words = positive_words[0].split(\",\")\n",
    "\n",
    "negative_words = Set(negative_words)\n",
    "positive_words = Set(positive_words)\n",
    "\n",
    "selectedCategories = ['Restaurants', 'Shopping', 'Beauty & Spas', 'Bars', 'Automotive', 'Event Planning & Services',\n",
    "                     'Fast Food', 'Coffee & Tea', 'Hotels', 'Real Estate', 'Dentists', 'Gyms']\n",
    "\n",
    "print math.log(1)"
   ]
  },
  {
   "cell_type": "code",
   "execution_count": 34,
   "metadata": {
    "collapsed": false,
    "scrolled": true
   },
   "outputs": [
    {
     "data": {
      "text/plain": [
       "[((u'Restaurants', u'sOcZcXcNm8LmdoOYqEDqpg'), 60.889657211172825),\n",
       " ((u'Restaurants', u'51qNc8sg9kCD5GEJ3TUrrw'), 50.95513110558408),\n",
       " ((u'Restaurants', u'Yl7jil0y_1GK1Z82vmUQew'), 48.68231001856046),\n",
       " ((u'Restaurants', u'VZYMInkjRJVHwXVFqeoMWg'), 48.69483975770998),\n",
       " ((u'Restaurants', u'bZX-b9fInWIk8j3Y50uBWQ'), 51.55066863538831),\n",
       " ((u'Restaurants', u'DeiWR9aL18WpVyzuey7dGg'), 59.79133280292059),\n",
       " ((u'Restaurants', u'fvzr5GVCnNpnF9V-MvYrFg'), 52.60608576647458),\n",
       " ((u'Restaurants', u'JL5B_s1EoN4zIru4JSw4Qg'), 49.15831028012707),\n",
       " ((u'Restaurants', u'dzZnC5YVzZVzW0he28HwEA'), 0.0),\n",
       " ((u'Restaurants', u'83C1eqPfmQHTy_8MC4Ug6w'), 47.78569825261467)]"
      ]
     },
     "execution_count": 34,
     "metadata": {},
     "output_type": "execute_result"
    }
   ],
   "source": [
    "# Reviews\n",
    "\n",
    "def mapper_reviews_filter(rows):\n",
    "    for row in rows:\n",
    "        row = json.loads(row)\n",
    "        yield (row['user_id'], (row['business_id'], row['stars']))\n",
    "\n",
    "def mapper_business_filter(rows):\n",
    "    for row in rows:\n",
    "        row = json.loads(row)\n",
    "        for category in row['categories']:\n",
    "            if(category in selectedCategories):\n",
    "                yield (row['business_id'], category)\n",
    "\n",
    "def mapper_users_filter(rows):\n",
    "    for row in rows:\n",
    "        row = json.loads(row)\n",
    "        elite = 0\n",
    "        if len(row['elite']) == 0:\n",
    "            elite = 1\n",
    "        else:\n",
    "            elite = 4 + len(row['elite'])\n",
    "        yield (row['user_id'], elite)\n",
    "\n",
    "def mapper_business_rating(rows):\n",
    "    for row in rows:\n",
    "        business_id = row[0]\n",
    "        ratings_value = 0\n",
    "        ratings_count = 0\n",
    "        for rating in row[1]:\n",
    "            ratings_value += rating[0]*rating[1]\n",
    "            ratings_count += rating[1]\n",
    "        if(ratings_value < 0):\n",
    "            rating_value = 0\n",
    "        yield (business_id, (float(ratings_value)/float(ratings_count), ratings_count))        \n",
    "\n",
    "def mapper_normalized_total_reviews(records):\n",
    "    for category in records:\n",
    "        maxRatingValue = math.log(max(category[1],key=operator.itemgetter(1))[1][0]) \n",
    "        minRatingValue = math.log(min(category[1],key=operator.itemgetter(1))[1][0]) \n",
    "        maxRatingCount = math.log(max(category[1],key=lambda item:item[1][1])[1][1])\n",
    "        minRatingCount = math.log(min(category[1],key=lambda item:item[1][1])[1][1])\n",
    "        for business in category[1]:\n",
    "            normalizedRatingValue = (math.log(float(business[1][0])) - minRatingValue)/(maxRatingValue - minRatingValue) * 65\n",
    "            normalizedRatingCount = (math.log(float(business[1][1])) - minRatingCount)/(maxRatingCount - minRatingCount) * 5\n",
    "            yield ((category[0], business[0]), normalizedRatingValue + normalizedRatingCount)   \n",
    "            \n",
    "reviews_filtered = reviews.mapPartitions(mapper_reviews_filter)\n",
    "business_filtered = businesses.mapPartitions(mapper_business_filter)\n",
    "users_filtered = users.mapPartitions(mapper_users_filter)\n",
    "\n",
    "joined_reviews = reviews_filtered.join(users_filtered).map(lambda x: (x[1][0][0],(x[1][0][1], x[1][1]))).groupByKey()\n",
    "total_reviews = joined_reviews.mapPartitions(mapper_business_rating)\n",
    "category_join = total_reviews.join(business_filtered).map(lambda x: (x[1][1], (x[0], x[1][0]))).groupByKey().mapValues(list)\n",
    "total_normalized_reviews = category_join.mapPartitions(mapper_normalized_total_reviews)\n",
    "# total_sortedByRatingsCount = total_normalized_reviews.map(lambda (k, v): (k, sorted(v, key=lambda x: x[1][1], reverse=True)))\n",
    "# total_sortedByRatingsValue = total_normalized.map(lambda (k, v): (k, sorted(v, key=lambda x: x[1], reverse=True)))\n",
    "total_normalized_reviews.take(10)\n"
   ]
  },
  {
   "cell_type": "code",
   "execution_count": 35,
   "metadata": {
    "collapsed": false
   },
   "outputs": [
    {
     "data": {
      "text/plain": [
       "[((u'Bars', u'nx8B4SQC4pQnMoTVsMs0rg'), 1),\n",
       " ((u'Bars', u'XKwbA7WVROVbLlPPzHZHgw'), 1),\n",
       " ((u'Bars', u'W-UBevF6tFgX4WiA8PvdPA'), 1),\n",
       " ((u'Bars', u'oqL1hS934CyZc3msupQNRA'), 1),\n",
       " ((u'Bars', u'D3a0vrdXzT_UkbPNhK8f7w'), 0),\n",
       " ((u'Bars', u'g8dcjPzIJGwY-u4GAeHxnQ'), 1),\n",
       " ((u'Bars', u'MnHlTUSAPev7YRbdZDv5ew'), 1),\n",
       " ((u'Bars', u'cexR4j7jfgnTMbbb_YEDWg'), 1),\n",
       " ((u'Bars', u'CBoMK_j_QG-DdMIsqznTkQ'), 1),\n",
       " ((u'Bars', u'-SB5exmdSotbAFh-NwMmbQ'), 1)]"
      ]
     },
     "execution_count": 35,
     "metadata": {},
     "output_type": "execute_result"
    }
   ],
   "source": [
    "# Tips\n",
    "\n",
    "def mapper_tips_filter(records):\n",
    "    for row in records:\n",
    "        row = json.loads(row)\n",
    "        if (row[\"type\"] == 'tip'):\n",
    "            text = row[\"text\"].split(\" \")\n",
    "            pos_counter = 0\n",
    "            neg_counter = 0\n",
    "            for i in text:\n",
    "                if i in positive_words:\n",
    "                    pos_counter += 1\n",
    "                elif i in negative_words:\n",
    "                    neg_counter += 1\n",
    "            if pos_counter > neg_counter:\n",
    "                yield (row[\"user_id\"], (row[\"business_id\"], 1))  #good\n",
    "            else:\n",
    "                yield (row[\"user_id\"], (row[\"business_id\"], -1)) #bad tip\n",
    "\n",
    "def mapper_normalized_total_tips(records):\n",
    "    for category in records:\n",
    "        maxRatingValue = max(category[1],key=operator.itemgetter(1))[1][0]\n",
    "        minRatingValue = min(category[1],key=operator.itemgetter(1))[1][0]\n",
    "        maxRatingCount = max(category[1],key=lambda item:item[1][1])[1][1]\n",
    "        minRatingCount = min(category[1],key=lambda item:item[1][1])[1][1]\n",
    "        if minRatingValue <= 0:\n",
    "            minRatingValue = 1\n",
    "        if maxRatingValue <= 0:\n",
    "            maxRatingValue = 1\n",
    "        if minRatingCount <= 0:\n",
    "            minRatingCount = 1\n",
    "        if maxRatingCount <= 0:\n",
    "            maxRatingCount = 1\n",
    "        minRatingValueLog = math.log(float(minRatingValue))\n",
    "        maxRatingValueLog = math.log(float(maxRatingValue))\n",
    "        minRatingCountLog = math.log(float(minRatingCount))\n",
    "        maxRatingCountLog = math.log(float(maxRatingCount))\n",
    "        for business in category[1]:\n",
    "            if(float(business[1][0]) <= 0):\n",
    "                normalizedRatingValue = 1\n",
    "            else:\n",
    "                if(maxRatingValueLog - minRatingValueLog == 0):\n",
    "                    normalizedRatingValue = 0\n",
    "                else: \n",
    "                    normalizedRatingValue = (math.log(float(business[1][0])) - minRatingValue)/(maxRatingValue - minRatingValue) * 9\n",
    "            if(float(business[1][1]) <= 0):\n",
    "                normalizedRatingCount = 1\n",
    "            else:\n",
    "                if(maxRatingCountLog - minRatingCountLog):\n",
    "                    normalizedRatingCount = 0\n",
    "                else:\n",
    "                    normalizedRatingCount = (math.log(float(business[1][1])) - minRatingCount)/(maxRatingCount - minRatingCount) * 1           \n",
    "            yield ((category[0], business[0]), normalizedRatingValue + normalizedRatingCount)   \n",
    "                \n",
    "tips_filtered = tips.mapPartitions(mapper_tips_filter)\n",
    "joined_tips = tips_filtered.join(users_filtered).map(lambda x: (x[1][0][0],(x[1][0][1], x[1][1]))).groupByKey()\n",
    "total_tips = joined_tips.mapPartitions(mapper_business_rating)\n",
    "category_join_tips = total_tips.join(business_filtered).map(lambda x: (x[1][1], (x[0], x[1][0]))).groupByKey().mapValues(list)\n",
    "total_normalized_tips = category_join_tips.mapPartitions(mapper_normalized_total_tips)\n",
    "total_normalized_tips.take(10)"
   ]
  },
  {
   "cell_type": "code",
   "execution_count": 72,
   "metadata": {
    "collapsed": false
   },
   "outputs": [
    {
     "data": {
      "text/plain": [
       "[(u'cE27W9VPgO88Qxe4ol6y_g', 1),\n",
       " (u'cE27W9VPgO88Qxe4ol6y_g', 1),\n",
       " (u'cE27W9VPgO88Qxe4ol6y_g', 1),\n",
       " (u'cE27W9VPgO88Qxe4ol6y_g', 1),\n",
       " (u'cE27W9VPgO88Qxe4ol6y_g', 1),\n",
       " (u'cE27W9VPgO88Qxe4ol6y_g', 1),\n",
       " (u'cE27W9VPgO88Qxe4ol6y_g', 1),\n",
       " (u'cE27W9VPgO88Qxe4ol6y_g', 1),\n",
       " (u'cE27W9VPgO88Qxe4ol6y_g', 1),\n",
       " (u'mVHrayjG3uZ_RLHkLj-AMg', 1)]"
      ]
     },
     "execution_count": 72,
     "metadata": {},
     "output_type": "execute_result"
    }
   ],
   "source": [
    "#Checkins\n",
    "\n",
    "def mapper_checkins_filter(records):\n",
    "    for line in records:\n",
    "        line = json.loads(line)\n",
    "        checkin_info = line['checkin_info']\n",
    "        for key, val in checkin_info.iteritems():\n",
    "            yield (line['business_id'], val)\n",
    "\n",
    "def mapper_normalization(records):\n",
    "    for category in records:\n",
    "        minCheckins = min(category[1], key=operator.itemgetter(1))[1]\n",
    "        maxCheckins = max(category[1], key=operator.itemgetter(1))[1]\n",
    "        if(minCheckins <= 0):\n",
    "            minCheckins = 1\n",
    "        if(maxCheckins <= 0):\n",
    "            maxCheckins = 1\n",
    "        minCheckins = math.log(minCheckins)\n",
    "        maxCheckins = math.log(maxCheckins)\n",
    "        for business in category[1]:\n",
    "            score = float(business[1])\n",
    "            if(score <= 0):\n",
    "                score = 1\n",
    "            normalizedRatingValue = (math.log(score) - minCheckins)/(maxCheckins - minCheckins) * 20\n",
    "            yield ((category[0], business[0]), normalizedRatingValue)    \n",
    "        \n",
    "checkins_filtered = checkins.mapPartitions(mapper_checkins_filter).reduceByKey(operator.add)\n",
    "joined_checkins = checkins_filtered.join(business_filtered).map(lambda x: (x[1][1],(x[0],x[1][0]))).groupByKey().mapValues(list)\n",
    "total_normalized_checkins = joined_checkins.mapPartitions(mapper_normalization)\n",
    "total_normalized_checkins.take(20)"
   ]
  },
  {
   "cell_type": "code",
   "execution_count": 61,
   "metadata": {
    "collapsed": false
   },
   "outputs": [
    {
     "data": {
      "text/plain": [
       "[(u'OhmRdo9XL2ZWtpt7ewvPAg',\n",
       "  ((u'Subway', u'Henderson', 36.0288225, -115.0624726),\n",
       "   (u'Restaurants',\n",
       "    (6.0091947655105145, 45.08956323641652, 1),\n",
       "    52.09875800192703))),\n",
       " (u'OhmRdo9XL2ZWtpt7ewvPAg',\n",
       "  ((u'Subway', u'Henderson', 36.0288225, -115.0624726),\n",
       "   (u'Fast Food',\n",
       "    (7.113644388284024, 45.23920582371423, 1),\n",
       "    53.35285021199825)))]"
      ]
     },
     "execution_count": 61,
     "metadata": {},
     "output_type": "execute_result"
    }
   ],
   "source": [
    "def mapper_business_information(rows):\n",
    "    for row in rows:\n",
    "        row = json.loads(row)\n",
    "        yield(row['business_id'], (row['name'], row['city'], row['latitude'], row['longitude']))\n",
    "\n",
    "score = total_normalized_checkins.join(total_normalized_reviews).join(total_normalized_tips)\n",
    "score = score.map(lambda x: (x[0][1], ((x[0][0], (x[1][0][0], x[1][0][1], x[1][1]), x[1][0][0] + x[1][0][1] + x[1][1]))))\n",
    "business_information = businesses.mapPartitions(mapper_business_information)\n",
    "business_information_joined = business_information.join(score)\n",
    "business_information_joined.take(2)"
   ]
  },
  {
   "cell_type": "code",
   "execution_count": 68,
   "metadata": {
    "collapsed": false
   },
   "outputs": [],
   "source": [
    "def RepresentsInt(s):\n",
    "    try: \n",
    "        int(s)\n",
    "        return True\n",
    "    except ValueError:\n",
    "        return False\n",
    "\n",
    "businesses_test = sc.textFile('../YelpDataset/yelp_academic_dataset_business.json')    \n",
    "    \n",
    "def mapper_business_filter(rows):\n",
    "    for row in rows:\n",
    "        row = json.loads(row)\n",
    "        for category in row['categories']:\n",
    "            if(category in selectedCategories):\n",
    "                if (len(row[\"full_address\"].split(\"\\n\")) == 5):\n",
    "                    if (RepresentsInt(row[\"full_address\"].split(\"\\n\")[4].split(\" \")[-1])):\n",
    "                        yield (row['business_id'], row[\"full_address\"].split(\"\\n\")[4].split(\" \")[-1])\n",
    "                        break\n",
    "                elif (len(row[\"full_address\"].split(\"\\n\")) == 4):\n",
    "                    if (RepresentsInt(row[\"full_address\"].split(\"\\n\")[3].split(\" \")[-1])):\n",
    "                        yield (row['business_id'], row[\"full_address\"].split(\"\\n\")[3].split(\" \")[-1])\n",
    "                        break\n",
    "                elif (len(row[\"full_address\"].split(\"\\n\")) == 3):\n",
    "                    if (RepresentsInt(row[\"full_address\"].split(\"\\n\")[2].split(\" \")[-1])):\n",
    "                        yield (row['business_id'], row[\"full_address\"].split(\"\\n\")[2].split(\" \")[-1])\n",
    "                        break\n",
    "                elif (len(row[\"full_address\"].split(\"\\n\")) == 2):\n",
    "                    if (RepresentsInt(row[\"full_address\"].split(\"\\n\")[1].split(\" \")[-1])):\n",
    "                        yield (row['business_id'], row[\"full_address\"].split(\"\\n\")[1].split(\" \")[-1]) \n",
    "                        break\n",
    "                elif (len(row[\"full_address\"].split(\"\\n\")) == 1):\n",
    "                    if (RepresentsInt(row[\"full_address\"].split(\"\\n\")[0].split(\" \")[-1])):\n",
    "                        yield (row['business_id'], row[\"full_address\"].split(\"\\n\")[0].split(\" \")[-1])\n",
    "                        break\n",
    "\n",
    "business_zip_filtered = businesses_test.mapPartitions(mapper_business_filter)"
   ]
  },
  {
   "cell_type": "code",
   "execution_count": 70,
   "metadata": {
    "collapsed": false
   },
   "outputs": [],
   "source": [
    "import csv\n",
    "\n",
    "# business_information_joined = business_information_joined.collect()\n",
    "# cities = ['LasVegas', 'Phoenix', 'Montreal', 'Edinburgh', 'Karlsruhe', 'Waterloo', 'Charlotte', 'Urbana', 'Madison', 'Champaign']\n",
    "# cities = Set(cities)\n",
    "\n",
    "def mapper_business_information(rows):\n",
    "    for row in rows:\n",
    "        row = json.loads(row)\n",
    "        yield(row['business_id'], (row['name'], row['city'], row['latitude'], row['longitude']))\n",
    "\n",
    "score = total_normalized_checkins.join(total_normalized_reviews).join(total_normalized_tips)\n",
    "score = score.map(lambda x: (x[0][1], ((x[0][0], (x[1][0][0], x[1][0][1], x[1][1]), x[1][0][0] + x[1][0][1] + x[1][1]))))\n",
    "business_information = businesses.mapPartitions(mapper_business_information)\n",
    "business_information_joined = business_information.join(score)\n",
    "business_information_joined.take(2)\n",
    "\n",
    "business_zipCode_Joined = business_information_joined.join(business_zip_filtered)\n",
    "business_zipCode_Joined.take(5)\n",
    "\n",
    "business_zipCode_Joined_collect = business_zipCode_Joined.collect()\n",
    "\n",
    "with open('data_zipcodes.csv', 'w') as csvfile:\n",
    "    fieldnames = ['business_name', 'category', 'longitude', 'latitude', 'city', 'zip', 'total_score', 'country']\n",
    "    writer = csv.DictWriter(csvfile, fieldnames=fieldnames)\n",
    "    writer.writeheader()\n",
    "    for business in business_zipCode_Joined_collect:\n",
    "        writer.writerow({'business_name': str(business[1][0][0][0].encode('utf-8')), 'category': str(business[1][0][1][0]), \\\n",
    "                        'city': str(business[1][0][0][1].encode('utf-8')), 'longitude': str(business[1][0][0][2]), \\\n",
    "                        'zip': str(business[1][1]), 'latitude': str(business[1][0][0][3]), 'total_score': str(business[1][0][1][2]), \\\n",
    "                         'country': \"United States\" })\n",
    "        "
   ]
  },
  {
   "cell_type": "code",
   "execution_count": 31,
   "metadata": {
    "collapsed": false
   },
   "outputs": [
    {
     "data": {
      "text/plain": [
       "[((u'Phoenix', u'85033'), 53.976885547466885),\n",
       " ((u'Firth of Forth', 'NA'), 48.228258864525515),\n",
       " ((u'Edinburgh', u'4'), 64.78035825160369),\n",
       " ((u'Charlotte', u'28280'), 64.33979410937042),\n",
       " ((u'Litchfield Park', u'85340'), 57.81611154198246),\n",
       " ((u'Surprise', u'85379'), 60.42466032331306),\n",
       " ((u'Charlotte', u'28244'), 64.32240844273008),\n",
       " ((u'Laveen', u'85339'), 53.01440148421943),\n",
       " ((u'Belmont', u'28012'), 59.685557805864626),\n",
       " ((u'Saint-Henri', 'NA'), 64.05292636132184)]"
      ]
     },
     "execution_count": 31,
     "metadata": {},
     "output_type": "execute_result"
    }
   ],
   "source": [
    "def mapper_zip_score(records):\n",
    "    for row in records:\n",
    "        yield (row[0], sum(row[1])/len(row[1]))\n",
    "        \n",
    "zips = business_zipCode_Joined.map(lambda x: ((x[1][0][0][1], x[1][1]), x[1][0][1][2])).groupByKey().mapPartitions(mapper_zip_score)\n",
    "zips.take(10)"
   ]
  },
  {
   "cell_type": "code",
   "execution_count": 43,
   "metadata": {
    "collapsed": false
   },
   "outputs": [],
   "source": [
    "k = range(20)"
   ]
  },
  {
   "cell_type": "code",
   "execution_count": 19,
   "metadata": {
    "collapsed": false
   },
   "outputs": [
    {
     "name": "stdout",
     "output_type": "stream",
     "text": [
      "38353\n"
     ]
    }
   ],
   "source": [
    "import csv\n",
    "selectedCategories = ['Restaurants', 'Shopping', 'Beauty & Spas', 'Bars', 'Automotive', 'Event Planning & Services',\n",
    "                     'Fast Food', 'Coffee & Tea', 'Hotels', 'Real Estate', 'Dentists', 'Gyms']\n",
    "\n",
    "All = []\n",
    "\n",
    "Restaurants = []\n",
    "Shopping = []\n",
    "BeautyNSpas = []\n",
    "Bars = []\n",
    "Automotive = []\n",
    "EventPlanningNServices = []\n",
    "FastFood = []\n",
    "CoffeeNTea = []\n",
    "Hotels = []\n",
    "RealEstate = []\n",
    "Dentists = []\n",
    "Gyms = []\n",
    "\n",
    "with open('final_data.csv', 'rb') as csvfile:\n",
    "    reader = csv.reader(csvfile, quotechar='|')\n",
    "    for row in reader:\n",
    "        if row[0].startswith(\"business_name\"): continue\n",
    "        if row[1] == 'Restaurants':\n",
    "            Restaurants.append(row)\n",
    "        elif row[1] == 'Shopping':\n",
    "            Shopping.append(row)\n",
    "        elif row[1] == 'Beauty & Spas':\n",
    "            BeautyNSpas.append(row)\n",
    "        elif row[1] == 'Bars':\n",
    "            Bars.append(row)\n",
    "        elif row[1] == 'Automotive':\n",
    "            Automotive.append(row)\n",
    "        elif row[1] == 'Event Planning & Services':\n",
    "            EventPlanningNServices.append(row)\n",
    "        elif row[1] == 'Fast Food':\n",
    "            FastFood.append(row)\n",
    "        elif row[1] == 'Coffee & Tea':\n",
    "            CoffeeNTea.append(row)\n",
    "        elif row[1] == 'Hotels':\n",
    "            Hotels.append(row)\n",
    "        elif row[1] == 'Real Estate':\n",
    "            RealEstate.append(row)\n",
    "        elif row[1] == 'Dentists':\n",
    "            Dentists.append(row)\n",
    "        elif row[1] == 'Gyms':\n",
    "            Gyms.append(row)\n",
    "\n",
    "print len(Restaurants) + len(Shopping) + len(BeautyNSpas) + len(Bars) + len(Automotive) + len(EventPlanningNServices) + \\\n",
    "        len(FastFood) + len(CoffeeNTea) + len(Hotels) + len(RealEstate) + len(Dentists) + len (Gyms)\n"
   ]
  },
  {
   "cell_type": "code",
   "execution_count": 20,
   "metadata": {
    "collapsed": false
   },
   "outputs": [],
   "source": [
    "All.append(Restaurants)\n",
    "All.append(Shopping)\n",
    "All.append(BeautyNSpas)\n",
    "All.append(Bars)\n",
    "All.append(Automotive)\n",
    "All.append(EventPlanningNServices)\n",
    "All.append(FastFood)\n",
    "All.append(CoffeeNTea)\n",
    "All.append(Hotels)\n",
    "All.append(RealEstate)\n",
    "All.append(Dentists)\n",
    "All.append(Gyms)"
   ]
  },
  {
   "cell_type": "code",
   "execution_count": 21,
   "metadata": {
    "collapsed": false
   },
   "outputs": [
    {
     "name": "stdout",
     "output_type": "stream",
     "text": [
      "Restaurants\n",
      "Shopping\n",
      "Beauty & Spas\n",
      "Bars\n",
      "Automotive\n",
      "Event Planning & Services\n",
      "Fast Food\n",
      "Coffee & Tea\n",
      "Hotels\n",
      "Real Estate\n",
      "Dentists\n",
      "Gyms\n"
     ]
    }
   ],
   "source": [
    "for i in All:\n",
    "    print i[0][1]\n",
    "    with open(str(i[0][1]) + '.csv', 'wb') as f:\n",
    "        writer = csv.writer(f)\n",
    "        writer.writerow(['business_name', 'category', 'longitude', 'latitude', 'city', 'zip', 'total_score', 'country', 'state'])\n",
    "        for j in i:\n",
    "            writer.writerow(j)"
   ]
  },
  {
   "cell_type": "code",
   "execution_count": null,
   "metadata": {
    "collapsed": true
   },
   "outputs": [],
   "source": []
  }
 ],
 "metadata": {
  "kernelspec": {
   "display_name": "Python 2",
   "language": "python",
   "name": "python2"
  },
  "language_info": {
   "codemirror_mode": {
    "name": "ipython",
    "version": 2
   },
   "file_extension": ".py",
   "mimetype": "text/x-python",
   "name": "python",
   "nbconvert_exporter": "python",
   "pygments_lexer": "ipython2",
   "version": "2.7.10"
  }
 },
 "nbformat": 4,
 "nbformat_minor": 0
}
