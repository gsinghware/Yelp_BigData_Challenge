{
 "cells": [
  {
   "cell_type": "code",
   "execution_count": 1,
   "metadata": {
    "collapsed": false
   },
   "outputs": [],
   "source": [
    "businesses = sc.textFile('../YelpDataset/yelp_academic_dataset_business.json')\n",
    "reviews = sc.textFile('../YelpDataset/yelp_academic_dataset_review.json')\n",
    "users = sc.textFile('../YelpDataset/yelp_academic_dataset_user.json')"
   ]
  },
  {
   "cell_type": "code",
   "execution_count": 2,
   "metadata": {
    "collapsed": false,
    "scrolled": false
   },
   "outputs": [],
   "source": [
    "import json, operator\n",
    "\n",
    "selectedCategories = ['Restaurants', 'Shopping', 'Beauty & Spas', 'Bars', 'Automotive', 'Event Planning & Services',\n",
    "                     'Fast Food', 'Coffee & Tea', 'Hotels', 'Real Estate', 'Dentists', 'Gyms']\n",
    "\n",
    "def mapper_reviews_filter(rows):\n",
    "    for row in rows:\n",
    "        row = json.loads(row)\n",
    "        yield (row['user_id'], (row['business_id'], row['stars']))\n",
    "\n",
    "def mapper_buisness_filter(rows):\n",
    "    for row in rows:\n",
    "        row = json.loads(row)\n",
    "        for category in row['categories']:\n",
    "            if(category in selectedCategories):\n",
    "                yield (row['business_id'], category)\n",
    "\n",
    "def mapper_users_filter(rows):\n",
    "    for row in rows:\n",
    "        row = json.loads(row)\n",
    "        elite = 0\n",
    "        if len(row['elite']) == 0:\n",
    "            elite = 1\n",
    "        else:\n",
    "            elite = 4 + len(row['elite'])\n",
    "        yield (row['user_id'], elite)\n",
    "\n",
    "def mapper_buisness_rating(rows):\n",
    "    for row in rows:\n",
    "        buisness_id = row[0]\n",
    "        ratings_value = 0\n",
    "        ratings_count = 0\n",
    "        for rating in row[1]:\n",
    "            ratings_value += rating[0]*rating[1]\n",
    "            ratings_count += rating[1]\n",
    "        yield (buisness_id, (float(ratings_value)/float(ratings_count), ratings_count))        \n",
    "\n",
    "def mapper_normalized_total(records):\n",
    "    for category in records:\n",
    "        maxRatingValue = max(category[1],key=operator.itemgetter(1))[1][0] \n",
    "        minRatingValue = min(category[1],key=operator.itemgetter(1))[1][0] \n",
    "        maxRatingCount = max(category[1],key=lambda item:item[1][1])[1][1]\n",
    "        minRatingCount = min(category[1],key=lambda item:item[1][1])[1][1]\n",
    "        for buisness in category[1]:\n",
    "            normalizedRatingValue = (float(buisness[1][0]) - minRatingValue)/(maxRatingValue - minRatingValue) * 20\n",
    "            normalizedRatingCount = (float(buisness[1][1]) - minRatingCount)/(maxRatingCount - minRatingCount) * 15\n",
    "            yield (category[0], (buisness[0], (normalizedRatingValue, normalizedRatingCount)))        \n",
    "        \n",
    "reviews_filtered = reviews.mapPartitions(mapper_reviews_filter)\n",
    "buisness_filtered = businesses.mapPartitions(mapper_buisness_filter)\n",
    "users_filtered = users.mapPartitions(mapper_users_filter)\n",
    "joined = reviews_filtered.join(users_filtered).map(lambda x: (x[1][0][0],(x[1][0][1], x[1][1]))).groupByKey()\n",
    "total = joined.mapPartitions(mapper_buisness_rating)\n",
    "category_join = total.join(buisness_filtered).map(lambda x: (x[1][1], (x[0], x[1][0]))).groupByKey().mapValues(list)\n",
    "total_normalized = category_join.mapPartitions(mapper_normalized_total).groupByKey().mapValues(list) \n",
    "total_sortedByRatingsCount = total_normalized.map(lambda (k, v): (k, sorted(v, key=lambda x: x[1][1], reverse=True)))\n",
    "total_sortedByRatingsValue = total_normalized.map(lambda (k, v): (k, sorted(v, key=lambda x: x[1], reverse=True)))\n"
   ]
  },
  {
   "cell_type": "code",
   "execution_count": null,
   "metadata": {
    "collapsed": true
   },
   "outputs": [],
   "source": []
  },
  {
   "cell_type": "code",
   "execution_count": null,
   "metadata": {
    "collapsed": true
   },
   "outputs": [],
   "source": []
  },
  {
   "cell_type": "code",
   "execution_count": null,
   "metadata": {
    "collapsed": true
   },
   "outputs": [],
   "source": []
  }
 ],
 "metadata": {
  "kernelspec": {
   "display_name": "Python 2",
   "language": "python",
   "name": "python2"
  },
  "language_info": {
   "codemirror_mode": {
    "name": "ipython",
    "version": 2
   },
   "file_extension": ".py",
   "mimetype": "text/x-python",
   "name": "python",
   "nbconvert_exporter": "python",
   "pygments_lexer": "ipython2",
   "version": "2.7.11"
  }
 },
 "nbformat": 4,
 "nbformat_minor": 0
}
