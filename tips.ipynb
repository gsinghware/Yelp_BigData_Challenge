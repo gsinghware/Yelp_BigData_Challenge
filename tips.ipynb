{
 "cells": [
  {
   "cell_type": "code",
   "execution_count": 15,
   "metadata": {
    "collapsed": false
   },
   "outputs": [
    {
     "data": {
      "text/plain": [
       "u'{\"user_id\": \"-6rEfobYjMxpUWLNxszaxQ\", \"text\": \"Don\\'t waste your time.\", \"business_id\": \"cE27W9VPgO88Qxe4ol6y_g\", \"likes\": 0, \"date\": \"2013-04-18\", \"type\": \"tip\"}'"
      ]
     },
     "execution_count": 15,
     "metadata": {},
     "output_type": "execute_result"
    }
   ],
   "source": [
    "tips = sc.textFile('../YelpDataset/yelp_academic_dataset_tip.json')\n",
    "users = sc.textFile('../YelpDataset/yelp_academic_dataset_user.json')\n",
    "tips.first()"
   ]
  },
  {
   "cell_type": "code",
   "execution_count": 16,
   "metadata": {
    "collapsed": false
   },
   "outputs": [
    {
     "data": {
      "text/plain": [
       "['2-faced',\n",
       " '2-faces',\n",
       " 'abnormal',\n",
       " 'abolish',\n",
       " 'abominable',\n",
       " 'abominably',\n",
       " 'abominate',\n",
       " 'abomination',\n",
       " 'abort',\n",
       " 'aborted']"
      ]
     },
     "execution_count": 16,
     "metadata": {},
     "output_type": "execute_result"
    }
   ],
   "source": [
    "with open('../YelpDataset/negative-words.txt', 'r') as myfile:\n",
    "    data = myfile.readline()\n",
    "    negative_words = data.split(\",\")\n",
    "\n",
    "negative_words[0:10]"
   ]
  },
  {
   "cell_type": "code",
   "execution_count": 17,
   "metadata": {
    "collapsed": false
   },
   "outputs": [
    {
     "data": {
      "text/plain": [
       "['',\n",
       " 'a+',\n",
       " 'abound',\n",
       " 'abounds',\n",
       " 'abundance',\n",
       " 'abundant',\n",
       " 'accessable',\n",
       " 'accessible',\n",
       " 'acclaim',\n",
       " 'acclaimed']"
      ]
     },
     "execution_count": 17,
     "metadata": {},
     "output_type": "execute_result"
    }
   ],
   "source": [
    "with open('../YelpDataset/positive-words.txt', 'r') as myfile:\n",
    "    data = myfile.readline()\n",
    "    positive_words = data.split(\",\")\n",
    "\n",
    "positive_words[0:10]"
   ]
  },
  {
   "cell_type": "code",
   "execution_count": 21,
   "metadata": {
    "collapsed": false
   },
   "outputs": [
    {
     "data": {
      "text/plain": [
       "[(u'-6rEfobYjMxpUWLNxszaxQ', (u'cE27W9VPgO88Qxe4ol6y_g', -1)),\n",
       " (u'EZ0r9dKKtEGVx2CdnowPCw', (u'mVHrayjG3uZ_RLHkLj-AMg', -1)),\n",
       " (u'xb6zEQCw9I-Gl0g06e1KsQ', (u'KayYbHCt-RkbGcPdGOThNg', -1)),\n",
       " (u'QawZN4PSW7ng_9SP7pjsVQ', (u'KayYbHCt-RkbGcPdGOThNg', 1)),\n",
       " (u'MLQre1nvUtW-RqMTc4iC9A', (u'1_lU0-eSWJCRvNGk78Zh9Q', -1)),\n",
       " (u'bvu13GyOUwhEjPum2xjiqQ', (u'1_lU0-eSWJCRvNGk78Zh9Q', -1)),\n",
       " (u'bvu13GyOUwhEjPum2xjiqQ', (u'_qopVQ6_Mz6W7-Pmbi56GQ', -1)),\n",
       " (u'_QFom7aSHKNCDsNXKd-3xQ', (u'_qopVQ6_Mz6W7-Pmbi56GQ', 1)),\n",
       " (u'fvTivrsJoUMYXnOJw9wZfw', (u'wJr6kSA5dchdgOdwH6dZ2w', 1)),\n",
       " (u'bvu13GyOUwhEjPum2xjiqQ', (u'Cdcus0NADzyY3XiJM2O5Sg', -1))]"
      ]
     },
     "execution_count": 21,
     "metadata": {},
     "output_type": "execute_result"
    }
   ],
   "source": [
    "users = sc.textFile('../YelpDataset/yelp_academic_dataset_user.json')\n",
    "\n",
    "import json\n",
    "\n",
    "def mapper_users_filter(rows):\n",
    "    for row in rows:\n",
    "        row = json.loads(row)\n",
    "        elite = 0\n",
    "        if len(row['elite']) == 0:\n",
    "            elite = 1\n",
    "        else:\n",
    "            elite = 4 + len(row['elite'])\n",
    "        yield (row['user_id'], elite)\n",
    "\n",
    "def mapper_tips_filter(records):\n",
    "    for row in records:\n",
    "        row = json.loads(row)\n",
    "        if (row[\"type\"] == 'tip'):\n",
    "            text = row[\"text\"].split(\" \")\n",
    "            pos_counter = 0\n",
    "            neg_counter = 0\n",
    "            for words in text:\n",
    "                if words in positive_words:\n",
    "                    pos_counter += 1\n",
    "                elif words in negative_words:\n",
    "                    neg_counter += 1\n",
    "            if pos_counter > neg_counter:\n",
    "                yield (row[\"user_id\"], (row[\"business_id\"], 1))  #good\n",
    "            else:\n",
    "                yield (row[\"user_id\"], (row[\"business_id\"], -1)) #bad tip\n",
    "                \n",
    "tips_filtered = tips.mapPartitions(mapper_tips_filter)\n",
    "users_filtered = users.mapPartitions(mapper_users_filter)\n",
    "tips_filtered.take(10)\n",
    "# joined = users_filtered.join(tips_filtered)\n"
   ]
  },
  {
   "cell_type": "code",
   "execution_count": null,
   "metadata": {
    "collapsed": true
   },
   "outputs": [],
   "source": []
  },
  {
   "cell_type": "code",
   "execution_count": null,
   "metadata": {
    "collapsed": true
   },
   "outputs": [],
   "source": []
  }
 ],
 "metadata": {
  "kernelspec": {
   "display_name": "Python 2",
   "language": "python",
   "name": "python2"
  },
  "language_info": {
   "codemirror_mode": {
    "name": "ipython",
    "version": 2
   },
   "file_extension": ".py",
   "mimetype": "text/x-python",
   "name": "python",
   "nbconvert_exporter": "python",
   "pygments_lexer": "ipython2",
   "version": "2.7.11"
  }
 },
 "nbformat": 4,
 "nbformat_minor": 0
}
