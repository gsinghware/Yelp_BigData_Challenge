{
 "cells": [
  {
   "cell_type": "code",
   "execution_count": 159,
   "metadata": {
    "collapsed": false
   },
   "outputs": [
    {
     "data": {
      "text/plain": [
       "u'{\"votes\": {\"funny\": 0, \"useful\": 0, \"cool\": 0}, \"user_id\": \"PUFPaY9KxDAcGqfsorJp3Q\", \"review_id\": \"Ya85v4eqdd6k9Od8HbQjyA\", \"stars\": 4, \"date\": \"2012-08-01\", \"text\": \"Mr Hoagie is an institution. Walking in, it does seem like a throwback to 30 years ago, old fashioned menu board, booths out of the 70s, and a large selection of food. Their speciality is the Italian Hoagie, and it is voted the best in the area year after year. I usually order the burger, while the patties are obviously cooked from frozen, all of the other ingredients are very fresh. Overall, its a good alternative to Subway, which is down the road.\", \"type\": \"review\", \"business_id\": \"5UmKMjUEUNdYWqANhGckJw\"}'"
      ]
     },
     "execution_count": 159,
     "metadata": {},
     "output_type": "execute_result"
    }
   ],
   "source": [
    "businesses = sc.textFile('../YelpDataset/yelp_academic_dataset_business.json')\n",
    "reviews = sc.textFile('../YelpDataset/yelp_academic_dataset_review.json')\n",
    "users = sc.textFile('../YelpDataset/yelp_academic_dataset_user.json')\n",
    "# reviews.first()\n",
    "# businesses.first()\n",
    "# users.first()"
   ]
  },
  {
   "cell_type": "code",
   "execution_count": 222,
   "metadata": {
    "collapsed": false
   },
   "outputs": [
    {
     "name": "stdout",
     "output_type": "stream",
     "text": [
      "664\n"
     ]
    }
   ],
   "source": [
    "import json, operator\n",
    "\n",
    "selectedCategories = ['Restaurants', 'Shopping', 'Beauty & Spas', 'Bars', 'Automotive', 'Event Planning & Services',\n",
    "                     'Fast Food', 'Coffee & Tea', 'Hotels', 'Real Estate', 'Dentists', 'Gyms']\n",
    "\n",
    "def mapper_reviews_filter(rows):\n",
    "    for row in rows:\n",
    "        row = json.loads(row)\n",
    "        yield (row['user_id'], (row['business_id'], row['stars']))\n",
    "\n",
    "def mapper_buisness_filter(rows):\n",
    "    for row in rows:\n",
    "        row = json.loads(row)\n",
    "        for category in row['categories']:\n",
    "            if(category in selectedCategories):\n",
    "                yield (row['business_id'], category)\n",
    "\n",
    "def mapper_users_filter(rows):\n",
    "    for row in rows:\n",
    "        row = json.loads(row)\n",
    "        elite = 0\n",
    "        if len(row['elite']) == 0:\n",
    "            elite = 1\n",
    "        else:\n",
    "            elite = 4 + len(row['elite'])\n",
    "        yield (row['user_id'], elite)\n",
    "\n",
    "def mapper_buisness_rating(rows):\n",
    "    for row in rows:\n",
    "        buisness_id = row[0]\n",
    "        ratings_value = 0\n",
    "        ratings_count = 0\n",
    "        for rating in row[1]:\n",
    "            ratings_value += rating[0]*rating[1]\n",
    "            ratings_count += rating[1]\n",
    "        yield (buisness_id, (float(ratings_value)/float(ratings_count), ratings_count))        \n",
    "\n",
    "def mapper_normalized_total(records):\n",
    "    for category in records:\n",
    "        maxRatingValue = max(lol,key=operator.itemgetter(1))[1][0] \n",
    "        minRatingValue = min(lol,key=operator.itemgetter(1))[1][0] \n",
    "        maxRatingCount = max(lol,key=lambda item:item[1][1])[1][1]\n",
    "        minRatingCount = min(lol,key=lambda item:item[1][1])[1][1]\n",
    "        yield ((minRatingValue, maxRatingValue), (minRatingCount, maxRatingCount))\n",
    "    \n",
    "#         maxReviewValue = max(category[1][0], key=operator.itemgetter(1))[1]\n",
    "#         minReviewValue = min(category[1][0], key=operator.itemgetter(1))[1]\n",
    "#         yield (maxReviewValue, minReviewValue)\n",
    "#         for buisness in category[1]:\n",
    "#             normalizedTotal = (float(buisness[1]) - minCheckins)/(maxCheckins - minCheckins) * 50\n",
    "#             yield (category[0], (buisness[0], normalizedTotal))        \n",
    "        \n",
    "reviews_filtered = reviews.mapPartitions(mapper_reviews_filter)\n",
    "buisness_filtered = businesses.mapPartitions(mapper_buisness_filter)\n",
    "users_filtered = users.mapPartitions(mapper_users_filter)\n",
    "joined = reviews_filtered.join(users_filtered).map(lambda x: (x[1][0][0],(x[1][0][1], x[1][1]))).groupByKey()\n",
    "total = joined.mapPartitions(mapper_buisness_rating)\n",
    "category_join = total.join(buisness_filtered).map(lambda x: (x[1][1], (x[0], x[1][0]))).groupByKey().mapValues(list)\n",
    "# category_join.take(40)\n",
    "total_normalized = category_join.mapPartitions(mapper_normalized_total) \n",
    "# total_normalized.take(40)\n",
    "#                                 .groupByKey().mapValues(list) \\\n",
    "#                                 .map(lambda (k, v): (k, sorted(v, key=lambda x: x[1], reverse=True)))\n",
    "# total_normalized.take(3)"
   ]
  },
  {
   "cell_type": "code",
   "execution_count": null,
   "metadata": {
    "collapsed": true
   },
   "outputs": [],
   "source": []
  },
  {
   "cell_type": "code",
   "execution_count": null,
   "metadata": {
    "collapsed": true
   },
   "outputs": [],
   "source": []
  },
  {
   "cell_type": "code",
   "execution_count": null,
   "metadata": {
    "collapsed": true
   },
   "outputs": [],
   "source": []
  }
 ],
 "metadata": {
  "kernelspec": {
   "display_name": "Python 2",
   "language": "python",
   "name": "python2"
  },
  "language_info": {
   "codemirror_mode": {
    "name": "ipython",
    "version": 2
   },
   "file_extension": ".py",
   "mimetype": "text/x-python",
   "name": "python",
   "nbconvert_exporter": "python",
   "pygments_lexer": "ipython2",
   "version": "2.7.11"
  }
 },
 "nbformat": 4,
 "nbformat_minor": 0
}
