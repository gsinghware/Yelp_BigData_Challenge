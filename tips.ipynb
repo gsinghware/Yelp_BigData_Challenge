{
 "cells": [
  {
   "cell_type": "code",
   "execution_count": null,
   "metadata": {
    "collapsed": false
   },
   "outputs": [],
   "source": [
    "tips = sc.textFile('../YelpDataset/yelp_academic_dataset_tip.json')\n",
    "tips.first()"
   ]
  },
  {
   "cell_type": "code",
   "execution_count": 13,
   "metadata": {
    "collapsed": false
   },
   "outputs": [
    {
     "data": {
      "text/plain": [
       "['2-faced',\n",
       " '2-faces',\n",
       " 'abnormal',\n",
       " 'abolish',\n",
       " 'abominable',\n",
       " 'abominably',\n",
       " 'abominate',\n",
       " 'abomination',\n",
       " 'abort',\n",
       " 'aborted']"
      ]
     },
     "execution_count": 13,
     "metadata": {},
     "output_type": "execute_result"
    }
   ],
   "source": [
    "with open('../YelpDataset/negative-words.txt', 'r') as myfile:\n",
    "    data = myfile.readline()\n",
    "    negative_words = data.split(\",\")\n",
    "\n",
    "negative_words[0:10]"
   ]
  },
  {
   "cell_type": "code",
   "execution_count": 14,
   "metadata": {
    "collapsed": false
   },
   "outputs": [
    {
     "data": {
      "text/plain": [
       "['',\n",
       " 'a+',\n",
       " 'abound',\n",
       " 'abounds',\n",
       " 'abundance',\n",
       " 'abundant',\n",
       " 'accessable',\n",
       " 'accessible',\n",
       " 'acclaim',\n",
       " 'acclaimed']"
      ]
     },
     "execution_count": 14,
     "metadata": {},
     "output_type": "execute_result"
    }
   ],
   "source": [
    "with open('../YelpDataset/positive-words.txt', 'r') as myfile:\n",
    "    data = myfile.readline()\n",
    "    positive_words = data.split(\",\")\n",
    "\n",
    "positive_words[0:10]"
   ]
  },
  {
   "cell_type": "code",
   "execution_count": null,
   "metadata": {
    "collapsed": false
   },
   "outputs": [],
   "source": [
    "users = sc.textFile('../YelpDataset/yelp_academic_dataset_user.json')\n",
    "\n",
    "import json\n",
    "\n",
    "def mapper_users_filter(rows):\n",
    "    for row in rows:\n",
    "        row = json.loads(row)\n",
    "        elite = 0\n",
    "        if len(row['elite']) == 0:\n",
    "            elite = 1\n",
    "        else:\n",
    "            elite = 4 + len(row['elite'])\n",
    "        yield (row['user_id'], elite)\n",
    "\n",
    "def mapper_1(records):\n",
    "    for row in records:\n",
    "        row = json.loads(row)\n",
    "        if (row[\"type\"] == 'tip'):\n",
    "            text = row[\"text\"].split(\" \")\n",
    "            pos_counter = 0\n",
    "            neg_counter = 0\n",
    "            for i in text:\n",
    "                if i in positive_words:\n",
    "                    pos_counter += 1\n",
    "                elif i in negative_words:\n",
    "                    neg_counter += 1\n",
    "            if pos_counter > neg_counter:\n",
    "                yield (row[\"user_id\"], row[\"business_id\"], 1) #good\n",
    "            else:\n",
    "                yield (row[\"user_id\"], row[\"business_id\"], -1) #bad tip\n",
    "\n",
    "output = tips.mapPartitions(mapper_1)\n",
    "users_filtered = users.mapPartitions(mapper_users_filter)\n",
    "# joined = output.join(users_filtered)\n",
    "joined.take(10)"
   ]
  },
  {
   "cell_type": "code",
   "execution_count": null,
   "metadata": {
    "collapsed": true
   },
   "outputs": [],
   "source": []
  }
 ],
 "metadata": {
  "kernelspec": {
   "display_name": "Python 2",
   "language": "python",
   "name": "python2"
  },
  "language_info": {
   "codemirror_mode": {
    "name": "ipython",
    "version": 2
   },
   "file_extension": ".py",
   "mimetype": "text/x-python",
   "name": "python",
   "nbconvert_exporter": "python",
   "pygments_lexer": "ipython2",
   "version": "2.7.10"
  }
 },
 "nbformat": 4,
 "nbformat_minor": 0
}
